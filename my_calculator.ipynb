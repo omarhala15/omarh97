{
  "nbformat": 4,
  "nbformat_minor": 0,
  "metadata": {
    "colab": {
      "provenance": [],
      "authorship_tag": "ABX9TyNa7psX0D7s1I7PSWyFnA7c",
      "include_colab_link": true
    },
    "kernelspec": {
      "name": "python3",
      "display_name": "Python 3"
    },
    "language_info": {
      "name": "python"
    }
  },
  "cells": [
    {
      "cell_type": "markdown",
      "metadata": {
        "id": "view-in-github",
        "colab_type": "text"
      },
      "source": [
        "<a href=\"https://colab.research.google.com/github/omarhala15/omarh97/blob/main/my_calculator.ipynb\" target=\"_parent\"><img src=\"https://colab.research.google.com/assets/colab-badge.svg\" alt=\"Open In Colab\"/></a>"
      ]
    },
    {
      "cell_type": "code",
      "execution_count": 39,
      "metadata": {
        "id": "oa9s4N4DNl7q"
      },
      "outputs": [],
      "source": [
        "def my_calculator(x,y,Z):\n",
        "  if Z=='+':\n",
        "    print(x+y)\n",
        "  elif Z=='-':\n",
        "    print(x-y)\n",
        "  elif Z=='*':\n",
        "    print(x*y)\n",
        "  elif Z=='/':\n",
        "    print(x/y)\n",
        "  elif Z=='^':\n",
        "      print(x**y)\n",
        "\n",
        "\n"
      ]
    }
  ]
}